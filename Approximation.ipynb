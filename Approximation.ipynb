{
 "cells": [
  {
   "cell_type": "code",
   "execution_count": 1,
   "metadata": {},
   "outputs": [],
   "source": [
    "#Aproximation of NGP for all catalogues\n",
    "\n",
    "import warnings\n",
    "warnings.filterwarnings('ignore')\n"
   ]
  },
  {
   "cell_type": "code",
   "execution_count": 2,
   "metadata": {},
   "outputs": [
    {
     "name": "stdout",
     "output_type": "stream",
     "text": [
      "hola\n"
     ]
    }
   ],
   "source": [
    "print(\"hola\")"
   ]
  },
  {
   "cell_type": "code",
   "execution_count": 3,
   "metadata": {},
   "outputs": [],
   "source": [
    "def ars_check(ars):\n",
    "    ars = ars.tolist()\n",
    "    stat = 1\n",
    "    flag1 = False\n",
    "    flag2 = False\n",
    "    flag1 = all(x < ar_teo for x in ars)\n",
    "    flag2 = all(x > ar_teo for x in ars)\n",
    "    if flag1 == True or flag2 == True:\n",
    "        stat = 0\n",
    "    return stat\n",
    "        \n",
    "\n",
    "def ars_posi(ars):\n",
    "    ar1 = 0; ar1aux = []\n",
    "    ar2 = 0; ar2aux = []\n",
    "    for i in ars:\n",
    "        if i < ar_teo:\n",
    "            ar1aux.append(i)\n",
    "        elif i > ar_teo:\n",
    "            ar2aux.append(i)\n",
    "    \n",
    "    ar1 = np.mean(ar1aux)\n",
    "    ar2 = np.mean(ar2aux)\n",
    "    aproxAr = (ar2 - ar1)/2 + ar1\n",
    "    return aproxAr\n",
    "\n",
    "\n",
    "def horas_minutos(value):\n",
    "    horas = int(value)\n",
    "    minutos =(value - horas)*60\n",
    "    return(horas, minutos)\n",
    "\n",
    "import pandas as pd\n",
    "import numpy as np\n",
    "#from scipy import stats\n",
    "\n",
    "ar_teo = 12.816\n",
    "dec_teo = 27.4\n"
   ]
  },
  {
   "cell_type": "code",
   "execution_count": 4,
   "metadata": {},
   "outputs": [],
   "source": [
    "# Aproximacion AR"
   ]
  },
  {
   "cell_type": "code",
   "execution_count": 5,
   "metadata": {},
   "outputs": [],
   "source": [
    "def ars_check(ars):\n",
    "    ars = ars.tolist()\n",
    "    stat = 1\n",
    "    flag1 = False\n",
    "    flag2 = False\n",
    "    flag1 = all(x < ar_teo for x in ars)\n",
    "    flag2 = all(x > ar_teo for x in ars)\n",
    "    if flag1 == True or flag2 == True:\n",
    "        stat = 0\n",
    "    return stat\n",
    "        \n",
    "\n",
    "def ars_posi(ars):\n",
    "    ar1 = 0; ar1aux = []\n",
    "    ar2 = 0; ar2aux = []\n",
    "    for i in ars:\n",
    "        if i < ar_teo:\n",
    "            ar1aux.append(i)\n",
    "        elif i > ar_teo:\n",
    "            ar2aux.append(i)\n",
    "    \n",
    "    ar1 = np.mean(ar1aux)\n",
    "    ar2 = np.mean(ar2aux)\n",
    "    aproxAr = (ar2 - ar1)/2 + ar1\n",
    "    return aproxAr\n",
    "\n",
    "\n",
    "def horas_minutos(value):\n",
    "    horas = int(value)\n",
    "    minutos =(value - horas)*60\n",
    "    return(horas, minutos)\n",
    "\n",
    "def aprox_ar(data):\n",
    "    \n",
    "    data['decAprox'] = np.round(data['Decl'],1)\n",
    "    \n",
    "    \n",
    "    \n",
    "    #ordenamos por la AR y reseteamos los indices\n",
    "    data.sort_values('decAprox', inplace=True)\n",
    "    data = data.reset_index(inplace=False)\n",
    "    \n",
    "    ### BUSQUEDA DE PARES\n",
    "    #for i in range(0,len(data)):\n",
    "    #    print(data['decAprox'][i])\n",
    "    \n",
    "    coincidencia = data.loc[data['decAprox'] == 64.0]\n",
    "    ars = coincidencia[\"AR\"]\n",
    "    ar1 = 0; ar1aux = []\n",
    "    ar2 = 0; ar2aux = []\n",
    "    for i in ars:\n",
    "        if i < ar_teo:\n",
    "            ar1aux.append(i)\n",
    "        elif i > ar_teo:\n",
    "            ar2aux.append(i)\n",
    "    \n",
    "    ar1 = np.mean(ar1aux)\n",
    "    ar2 = np.mean(ar2aux)\n",
    "    aproxAr = (ar2 - ar1)/2 + ar1\n",
    "    \n",
    "    aa = data.decAprox.unique()\n",
    "    arsAprox = []\n",
    "    arsAproxdeg = []\n",
    "    for i in aa:\n",
    "        aproxAr = 0\n",
    "        coincidencia = data.loc[data['decAprox'] == i]\n",
    "        ars = coincidencia[\"AR\"]   \n",
    "        ar1 = 0; ar1aux = []\n",
    "        ar2 = 0; ar2aux = []\n",
    "        if len(ars) >= 2:\n",
    "            flag = ars_check(ars)\n",
    "            if flag == 1:\n",
    "                aproxAr = ars_posi(ars)\n",
    "                #print(flag, aproxAr)\n",
    "                arsAproxdeg.append(aproxAr*15)\n",
    "                arsAprox.append(aproxAr)\n",
    "    promed = np.mean(arsAprox)\n",
    "    \n",
    "    \n",
    "    bestdiff = 100\n",
    "    for i in arsAprox:\n",
    "        diff = abs(ar_teo-i)\n",
    "        if diff<bestdiff:\n",
    "            mejor_ar = i\n",
    "            bestdiff = diff\n",
    "    \n",
    "    horaproxi, minaproxi = horas_minutos(promed)\n",
    "    mejorHora, mejorMin = horas_minutos(mejor_ar)\n",
    "    print('----------------------------')\n",
    "    print('Valor real de AR: 12 h 49 m')\n",
    "    print('Mejor AR (con valor teorico): ', mejorHora,'h', round(mejorMin, 1),'m')\n",
    "    print('Promedio de aproximaciones AR: ',horaproxi,'h', round(minaproxi,1),'m')\n",
    "    print(\"Std\", np.std(arsAprox))\n",
    "    print('----------------------------')\n",
    "    \n",
    "    arteos = [dec_teo]*len(arsAproxdeg)\n",
    "    df = pd.DataFrame(list(zip(arsAproxdeg, arteos)),columns =['ar', 'dec'])\n",
    "    df.to_csv(\"Ars.csv\", index = False)"
   ]
  },
  {
   "cell_type": "code",
   "execution_count": 6,
   "metadata": {},
   "outputs": [],
   "source": [
    "def aprox_dec1(data,n=100):\n",
    "    data['absDec'] = abs(data['Decl'])\n",
    "    data.sort_values('absDec', inplace=True, ascending=False)\n",
    "    data.reset_index(inplace=True)\n",
    "    data = data.drop([0])\n",
    "    #data.reset_index(inplace=False)\n",
    "    \n",
    "    lst1 = data[\"absDec\"].tolist()\n",
    "    lst2 = data[\"Decl\"].tolist()\n",
    "    lst3 = data[\"AR\"].tolist()\n",
    "    \n",
    "    aproximaciones = []\n",
    "    declinaciones = []\n",
    "    ascenciones = []\n",
    "    for i in range(n):\n",
    "        #data = data.reset_index()\n",
    "        aprDec = 90-lst1[i]\n",
    "        auxDec = round(lst2[i],3)\n",
    "        auxAR = lst3[i]*15\n",
    "        aproximaciones.append(aprDec)\n",
    "        declinaciones.append(auxDec)\n",
    "        ascenciones.append(auxAR)\n",
    "        #data = data.drop([i])\n",
    "    \n",
    "    aux = list(range(0,n))\n",
    "    #data = data.drop(aux)\n",
    "    \n",
    "    \n",
    "    print('----------------------------')\n",
    "    print('Valor real de Dec: 27.4')\n",
    "    print('Promedio de aproximaciones Decl: ',np.mean(aproximaciones))\n",
    "    print('Mediana de aproximaciones Decl: ',np.median(aproximaciones))\n",
    "    print('STD Decl: ',np.std(aproximaciones))\n",
    "    print('----------------------------')\n",
    "\n",
    "    rad = [1]*n\n",
    "    df = pd.DataFrame(list(zip(ascenciones, declinaciones, rad)),columns =['ar', 'dec',\"radi\"])\n",
    "    df.to_csv(\"DecStars.csv\")"
   ]
  },
  {
   "cell_type": "code",
   "execution_count": 7,
   "metadata": {},
   "outputs": [],
   "source": [
    "def print_res(res):\n",
    "    decd = int(res)\n",
    "    decm = (res - decd)*60\n",
    "    decs = (decm - int(decm))*60\n",
    "    decm = int(decm)\n",
    "    \n",
    "    print(decd,'°', decm, 'm', decs,'°')\n",
    "\n",
    "delta = 0.25\n",
    "def aprox_dec2(data, delta):\n",
    "    ran = [ar_teo+delta, ar_teo-delta]\n",
    "    \n",
    "    \n",
    "    \n",
    "    lst2 = data[\"AR\"].tolist()\n",
    "    data[\"ARaprox\"] = data[\"AR\"].round(2)\n",
    "    \n",
    "    #stars = data.loc[data['ARaprox'] == 12]\n",
    "    stars = data.loc[data['AR'].between(ran[1], ran[0], inclusive=True)]\n",
    "    #stars = data.loc[data['ARaprox'] == 12.85]\n",
    "    #stars = data.loc[data['ARaprox'] > 12.318 and data['ARaprox'] < 13.318]\n",
    "    lst1 = stars[\"Decl\"].tolist()\n",
    "    lst2 = stars[\"AR2\"].tolist()\n",
    "    \n",
    "    \n",
    "    aprox = []\n",
    "    for i in lst1:\n",
    "        aux = 90 - abs(i)\n",
    "        aprox.append(aux)\n",
    "        \n",
    "    res = np.mean(aprox) \n",
    "    print(np.mean(aprox))\n",
    "    #plt.plot(aprox)\n",
    "    print_res(res)\n",
    "    print_res(dec_teo)\n",
    "    print_res(np.std(aprox))\n",
    "\n",
    "    rad = [1]*len(aprox)\n",
    "    dec_col = [ar_teo*15]*len(aprox)\n",
    "    df = pd.DataFrame(list(zip(lst1, lst2, rad)),columns =['dec', 'ar',\"radi\"])\n",
    "    df.to_csv(\"DecStars2.csv\")\n",
    "    \n",
    "    #print(aprox)\n",
    "    df2 = pd.DataFrame(list(zip(aprox,dec_col)), columns = ['dec', 'ar'])\n",
    "    df2.to_csv('DecAproxs.csv')\n",
    "    "
   ]
  },
  {
   "cell_type": "code",
   "execution_count": null,
   "metadata": {},
   "outputs": [],
   "source": []
  },
  {
   "cell_type": "code",
   "execution_count": 8,
   "metadata": {},
   "outputs": [
    {
     "name": "stdout",
     "output_type": "stream",
     "text": [
      "----------------------------\n",
      "Valor real de AR: 12 h 49 m\n",
      "Mejor AR (con valor teorico):  12 h 49.1 m\n",
      "Promedio de aproximaciones AR:  12 h 45.8 m\n",
      "Std 0.4364363282548434\n",
      "----------------------------\n",
      "----------------------------\n",
      "Valor real de Dec: 27.4\n",
      "Promedio de aproximaciones Decl:  25.907268\n",
      "Mediana de aproximaciones Decl:  26.87515\n",
      "STD Decl:  3.0147151219381687\n",
      "----------------------------\n",
      "30.354109090909095\n",
      "30 ° 21 m 14.792727272740933 °\n",
      "27 ° 23 m 59.999999999994884 °\n",
      "8 ° 33 m 55.89885219707156 °\n"
     ]
    }
   ],
   "source": [
    "data = pd.read_csv('data.csv')\n",
    "datas = data.loc[data['cat'] == 'LUND']\n",
    "aprox_ar(datas)\n",
    "aprox_dec1(datas,150)\n",
    "aprox_dec2(datas, delta)"
   ]
  },
  {
   "cell_type": "code",
   "execution_count": 9,
   "metadata": {},
   "outputs": [
    {
     "name": "stdout",
     "output_type": "stream",
     "text": [
      "----------------------------\n",
      "Valor real de AR: 12 h 49 m\n",
      "Mejor AR (con valor teorico):  12 h 49.1 m\n",
      "Promedio de aproximaciones AR:  12 h 49.4 m\n",
      "Std 0.18869776086651602\n",
      "----------------------------\n",
      "----------------------------\n",
      "Valor real de Dec: 27.4\n",
      "Promedio de aproximaciones Decl:  26.19710081139934\n",
      "Mediana de aproximaciones Decl:  26.33537403689237\n",
      "STD Decl:  1.3554799430536706\n",
      "----------------------------\n",
      "25.855532898454953\n",
      "25 ° 51 m 19.91843443783182 °\n",
      "27 ° 23 m 59.999999999994884 °\n",
      "1 ° 41 m 56.94222308520679 °\n"
     ]
    }
   ],
   "source": [
    "data = pd.read_csv('data.csv')\n",
    "data = data.loc[data['cat'] == 'OGLE']\n",
    "aprox_ar(data)\n",
    "aprox_dec1(data,400)\n",
    "aprox_dec2(data, delta)"
   ]
  },
  {
   "cell_type": "code",
   "execution_count": 10,
   "metadata": {
    "scrolled": true
   },
   "outputs": [
    {
     "name": "stdout",
     "output_type": "stream",
     "text": [
      "----------------------------\n",
      "Valor real de AR: 12 h 49 m\n",
      "Mejor AR (con valor teorico):  12 h 48.9 m\n",
      "Promedio de aproximaciones AR:  12 h 43.8 m\n",
      "Std 0.49117372613746413\n",
      "----------------------------\n",
      "----------------------------\n",
      "Valor real de Dec: 27.4\n",
      "Promedio de aproximaciones Decl:  27.137833333333337\n",
      "Mediana de aproximaciones Decl:  27.583333333333336\n",
      "STD Decl:  1.8693297298467408\n",
      "----------------------------\n",
      "28.75\n",
      "28 ° 45 m 0.0 °\n",
      "27 ° 23 m 59.999999999994884 °\n",
      "4 ° 1 m 24.700894391997394 °\n"
     ]
    }
   ],
   "source": [
    "data = pd.read_csv('data.csv')\n",
    "data = data.loc[data['cat'] == 'TORONTO']\n",
    "aprox_ar(data)\n",
    "aprox_dec1(data)\n",
    "aprox_dec2(data, delta)"
   ]
  },
  {
   "cell_type": "code",
   "execution_count": 11,
   "metadata": {},
   "outputs": [
    {
     "name": "stdout",
     "output_type": "stream",
     "text": [
      "----------------------------\n",
      "Valor real de AR: 12 h 49 m\n",
      "Mejor AR (con valor teorico):  12 h 52.3 m\n",
      "Promedio de aproximaciones AR:  12 h 17.3 m\n",
      "Std 0.7745097381049543\n",
      "----------------------------\n",
      "----------------------------\n",
      "Valor real de Dec: 27.4\n",
      "Promedio de aproximaciones Decl:  27.791691671835487\n",
      "Mediana de aproximaciones Decl:  28.203877969061857\n",
      "STD Decl:  1.9718168341874154\n",
      "----------------------------\n",
      "30.093980050877004\n",
      "30 ° 5 m 38.32818315721482 °\n",
      "27 ° 23 m 59.999999999994884 °\n",
      "4 ° 18 m 14.816011166153302 °\n"
     ]
    }
   ],
   "source": [
    "data = pd.read_csv('data.csv')\n",
    "data = data.loc[data['cat'] == 'GCVS']\n",
    "aprox_ar(data)\n",
    "aprox_dec1(data,40)\n",
    "aprox_dec2(data, delta)"
   ]
  },
  {
   "cell_type": "code",
   "execution_count": 12,
   "metadata": {},
   "outputs": [
    {
     "data": {
      "text/plain": [
       "(201, 6)"
      ]
     },
     "execution_count": 12,
     "metadata": {},
     "output_type": "execute_result"
    }
   ],
   "source": [
    "data = pd.read_csv('data.csv')\n",
    "data = data.loc[data['cat'] == 'GCVS']\n",
    "data.shape"
   ]
  },
  {
   "cell_type": "code",
   "execution_count": 13,
   "metadata": {},
   "outputs": [
    {
     "name": "stdout",
     "output_type": "stream",
     "text": [
      "----------------------------\n",
      "Valor real de AR: 12 h 49 m\n",
      "Mejor AR (con valor teorico):  12 h 49.0 m\n",
      "Promedio de aproximaciones AR:  12 h 45.9 m\n",
      "Std 0.36187486955271114\n",
      "----------------------------\n",
      "----------------------------\n",
      "Valor real de Dec: 27.4\n",
      "Promedio de aproximaciones Decl:  25.92155965527365\n",
      "Mediana de aproximaciones Decl:  26.351801249477038\n",
      "STD Decl:  2.102197094083706\n",
      "----------------------------\n",
      "26.855514375498938\n",
      "26 ° 51 m 19.851751796176984 °\n",
      "27 ° 23 m 59.999999999994884 °\n",
      "4 ° 1 m 10.73230847978067 °\n"
     ]
    },
    {
     "data": {
      "text/plain": [
       "(4097, 10)"
      ]
     },
     "execution_count": 13,
     "metadata": {},
     "output_type": "execute_result"
    }
   ],
   "source": [
    "data = pd.read_csv('data.csv')\n",
    "\n",
    "aprox_ar(data)\n",
    "aprox_dec1(data,650)\n",
    "aprox_dec2(data, delta)\n",
    "data.shape"
   ]
  },
  {
   "cell_type": "code",
   "execution_count": null,
   "metadata": {},
   "outputs": [],
   "source": []
  }
 ],
 "metadata": {
  "kernelspec": {
   "display_name": "Python 3",
   "language": "python",
   "name": "python3"
  },
  "language_info": {
   "codemirror_mode": {
    "name": "ipython",
    "version": 3
   },
   "file_extension": ".py",
   "mimetype": "text/x-python",
   "name": "python",
   "nbconvert_exporter": "python",
   "pygments_lexer": "ipython3",
   "version": "3.8.8"
  }
 },
 "nbformat": 4,
 "nbformat_minor": 4
}
